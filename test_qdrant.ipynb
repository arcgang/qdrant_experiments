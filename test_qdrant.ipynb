{
 "cells": [
  {
   "cell_type": "code",
   "execution_count": 6,
   "metadata": {},
   "outputs": [
    {
     "name": "stdout",
     "output_type": "stream",
     "text": [
      "Requirement already satisfied: qdrant-client in /Users/archanganguly/Documents/2023/PMI/GenAI/PoCs/AutoGPT/.conda/lib/python3.10/site-packages (1.7.3)\n",
      "Requirement already satisfied: portalocker<3.0.0,>=2.7.0 in /Users/archanganguly/Documents/2023/PMI/GenAI/PoCs/AutoGPT/.conda/lib/python3.10/site-packages (from qdrant-client) (2.8.2)\n",
      "Requirement already satisfied: grpcio>=1.41.0 in /Users/archanganguly/Documents/2023/PMI/GenAI/PoCs/AutoGPT/.conda/lib/python3.10/site-packages (from qdrant-client) (1.60.1)\n",
      "Requirement already satisfied: grpcio-tools>=1.41.0 in /Users/archanganguly/Documents/2023/PMI/GenAI/PoCs/AutoGPT/.conda/lib/python3.10/site-packages (from qdrant-client) (1.60.1)\n",
      "Requirement already satisfied: numpy>=1.21 in /Users/archanganguly/Documents/2023/PMI/GenAI/PoCs/AutoGPT/.conda/lib/python3.10/site-packages (from qdrant-client) (1.26.3)\n",
      "Requirement already satisfied: urllib3<3,>=1.26.14 in /Users/archanganguly/Documents/2023/PMI/GenAI/PoCs/AutoGPT/.conda/lib/python3.10/site-packages (from qdrant-client) (2.2.0)\n",
      "Requirement already satisfied: pydantic>=1.10.8 in /Users/archanganguly/Documents/2023/PMI/GenAI/PoCs/AutoGPT/.conda/lib/python3.10/site-packages (from qdrant-client) (2.6.1)\n",
      "Requirement already satisfied: httpx[http2]>=0.14.0 in /Users/archanganguly/Documents/2023/PMI/GenAI/PoCs/AutoGPT/.conda/lib/python3.10/site-packages (from qdrant-client) (0.26.0)\n",
      "Requirement already satisfied: protobuf<5.0dev,>=4.21.6 in /Users/archanganguly/Documents/2023/PMI/GenAI/PoCs/AutoGPT/.conda/lib/python3.10/site-packages (from grpcio-tools>=1.41.0->qdrant-client) (4.25.2)\n",
      "Requirement already satisfied: setuptools in /Users/archanganguly/Documents/2023/PMI/GenAI/PoCs/AutoGPT/.conda/lib/python3.10/site-packages (from grpcio-tools>=1.41.0->qdrant-client) (69.1.0)\n",
      "Requirement already satisfied: httpcore==1.* in /Users/archanganguly/Documents/2023/PMI/GenAI/PoCs/AutoGPT/.conda/lib/python3.10/site-packages (from httpx[http2]>=0.14.0->qdrant-client) (1.0.2)\n",
      "Requirement already satisfied: sniffio in /Users/archanganguly/Documents/2023/PMI/GenAI/PoCs/AutoGPT/.conda/lib/python3.10/site-packages (from httpx[http2]>=0.14.0->qdrant-client) (1.3.0)\n",
      "Requirement already satisfied: anyio in /Users/archanganguly/Documents/2023/PMI/GenAI/PoCs/AutoGPT/.conda/lib/python3.10/site-packages (from httpx[http2]>=0.14.0->qdrant-client) (4.2.0)\n",
      "Requirement already satisfied: idna in /Users/archanganguly/Documents/2023/PMI/GenAI/PoCs/AutoGPT/.conda/lib/python3.10/site-packages (from httpx[http2]>=0.14.0->qdrant-client) (3.6)\n",
      "Requirement already satisfied: certifi in /Users/archanganguly/Documents/2023/PMI/GenAI/PoCs/AutoGPT/.conda/lib/python3.10/site-packages (from httpx[http2]>=0.14.0->qdrant-client) (2024.2.2)\n",
      "Requirement already satisfied: h2<5,>=3 in /Users/archanganguly/Documents/2023/PMI/GenAI/PoCs/AutoGPT/.conda/lib/python3.10/site-packages (from httpx[http2]>=0.14.0->qdrant-client) (4.1.0)\n",
      "Requirement already satisfied: h11<0.15,>=0.13 in /Users/archanganguly/Documents/2023/PMI/GenAI/PoCs/AutoGPT/.conda/lib/python3.10/site-packages (from httpcore==1.*->httpx[http2]>=0.14.0->qdrant-client) (0.14.0)\n",
      "Requirement already satisfied: annotated-types>=0.4.0 in /Users/archanganguly/Documents/2023/PMI/GenAI/PoCs/AutoGPT/.conda/lib/python3.10/site-packages (from pydantic>=1.10.8->qdrant-client) (0.6.0)\n",
      "Requirement already satisfied: typing-extensions>=4.6.1 in /Users/archanganguly/Documents/2023/PMI/GenAI/PoCs/AutoGPT/.conda/lib/python3.10/site-packages (from pydantic>=1.10.8->qdrant-client) (4.9.0)\n",
      "Requirement already satisfied: pydantic-core==2.16.2 in /Users/archanganguly/Documents/2023/PMI/GenAI/PoCs/AutoGPT/.conda/lib/python3.10/site-packages (from pydantic>=1.10.8->qdrant-client) (2.16.2)\n",
      "Requirement already satisfied: hpack<5,>=4.0 in /Users/archanganguly/Documents/2023/PMI/GenAI/PoCs/AutoGPT/.conda/lib/python3.10/site-packages (from h2<5,>=3->httpx[http2]>=0.14.0->qdrant-client) (4.0.0)\n",
      "Requirement already satisfied: hyperframe<7,>=6.0 in /Users/archanganguly/Documents/2023/PMI/GenAI/PoCs/AutoGPT/.conda/lib/python3.10/site-packages (from h2<5,>=3->httpx[http2]>=0.14.0->qdrant-client) (6.0.1)\n",
      "Requirement already satisfied: exceptiongroup>=1.0.2 in /Users/archanganguly/Documents/2023/PMI/GenAI/PoCs/AutoGPT/.conda/lib/python3.10/site-packages (from anyio->httpx[http2]>=0.14.0->qdrant-client) (1.2.0)\n",
      "Note: you may need to restart the kernel to use updated packages.\n"
     ]
    }
   ],
   "source": [
    "pip install qdrant-client"
   ]
  },
  {
   "cell_type": "code",
   "execution_count": 17,
   "metadata": {},
   "outputs": [],
   "source": [
    "from qdrant_client import QdrantClient\n",
    "\n",
    "client = QdrantClient(\"localhost\", port=6333)"
   ]
  },
  {
   "cell_type": "code",
   "execution_count": 18,
   "metadata": {},
   "outputs": [
    {
     "data": {
      "text/plain": [
       "True"
      ]
     },
     "execution_count": 18,
     "metadata": {},
     "output_type": "execute_result"
    }
   ],
   "source": [
    "from qdrant_client.http.models import Distance, VectorParams\n",
    "\n",
    "client.create_collection(\n",
    "    collection_name=\"test_collection\",\n",
    "    vectors_config=VectorParams(size=4, distance=Distance.DOT),\n",
    ")"
   ]
  },
  {
   "cell_type": "code",
   "execution_count": null,
   "metadata": {},
   "outputs": [],
   "source": []
  }
 ],
 "metadata": {
  "kernelspec": {
   "display_name": "Python 3",
   "language": "python",
   "name": "python3"
  },
  "language_info": {
   "codemirror_mode": {
    "name": "ipython",
    "version": 3
   },
   "file_extension": ".py",
   "mimetype": "text/x-python",
   "name": "python",
   "nbconvert_exporter": "python",
   "pygments_lexer": "ipython3",
   "version": "3.10.11"
  }
 },
 "nbformat": 4,
 "nbformat_minor": 2
}
